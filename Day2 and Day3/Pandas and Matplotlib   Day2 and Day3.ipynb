{
 "cells": [
  {
   "cell_type": "code",
   "execution_count": 4,
   "metadata": {},
   "outputs": [],
   "source": [
    "#creating datasets\n",
    "import pandas as pd\n",
    "fiftystates = pd.read_html('https://simple.wikipedia.org/wiki/List_of_U.S._states')"
   ]
  },
  {
   "cell_type": "markdown",
   "metadata": {},
   "source": [
    "# Pandas"
   ]
  },
  {
   "cell_type": "code",
   "execution_count": 10,
   "metadata": {},
   "outputs": [
    {
     "name": "stdout",
     "output_type": "stream",
     "text": [
      "[         0              1               2               3                  4\n",
      "0   Sl no.  Abbreviations      State Name         Capital     Became a State\n",
      "1        1             AL         Alabama      Montgomery  December 14, 1819\n",
      "2        2             AK          Alaska          Juneau    January 3, 1959\n",
      "3        3             AZ         Arizona         Phoenix  February 14, 1912\n",
      "4        4             AR        Arkansas     Little Rock      June 15, 1836\n",
      "5        5             CA      California      Sacramento  September 9, 1850\n",
      "6        6             CO        Colorado          Denver     August 1, 1876\n",
      "7        7             CT     Connecticut        Hartford    January 9, 1788\n",
      "8        8             DE        Delaware           Dover   December 7, 1787\n",
      "9        9             FL         Florida     Tallahassee      March 3, 1845\n",
      "10      10             GA         Georgia         Atlanta    January 2, 1788\n",
      "11      11             HI          Hawaii        Honolulu    August 21, 1959\n",
      "12      12             ID           Idaho           Boise       July 3, 1890\n",
      "13      13             IL        Illinois     Springfield   December 3, 1818\n",
      "14      14             IN         Indiana    Indianapolis  December 11, 1816\n",
      "15      15             IA            Iowa      Des Moines  December 28, 1846\n",
      "16      16             KS          Kansas          Topeka   January 29, 1861\n",
      "17      17             KY        Kentucky       Frankfort       June 1, 1792\n",
      "18      18             LA       Louisiana     Baton Rouge     April 30, 1812\n",
      "19      19             ME           Maine         Augusta     March 15, 1820\n",
      "20      20             MD        Maryland       Annapolis     April 28, 1788\n",
      "21      21             MA   Massachusetts          Boston   February 6, 1788\n",
      "22      22             MI        Michigan         Lansing   January 26, 1837\n",
      "23      23             MN       Minnesota      Saint Paul       May 11, 1858\n",
      "24      24             MS     Mississippi         Jackson  December 10, 1817\n",
      "25      25             MO        Missouri  Jefferson City    August 10, 1821\n",
      "26      26             MT         Montana          Helena   November 8, 1889\n",
      "27      27             NE        Nebraska         Lincoln      March 1, 1867\n",
      "28      28             NV          Nevada     Carson City   October 31, 1864\n",
      "29      29             NH   New Hampshire         Concord      June 21, 1788\n",
      "30      30             NJ      New Jersey         Trenton  December 18, 1787\n",
      "31      31             NM      New Mexico        Santa Fe    January 6, 1912\n",
      "32      32             NY        New York          Albany      July 26, 1788\n",
      "33      33             NC  North Carolina         Raleigh  November 21, 1789\n",
      "34      34             ND    North Dakota        Bismarck   November 2, 1889\n",
      "35      35             OH            Ohio        Columbus      March 1, 1803\n",
      "36      36             OK        Oklahoma   Oklahoma City  November 16, 1907\n",
      "37      37             OR          Oregon           Salem  February 14, 1859\n",
      "38      38             PA    Pennsylvania      Harrisburg  December 12, 1787\n",
      "39      39             RI    Rhode Island      Providence       May 19, 1790\n",
      "40      40             SC  South Carolina        Columbia       May 23, 1788\n",
      "41      41             SD    South Dakota          Pierre   November 2, 1889\n",
      "42      42             TN       Tennessee       Nashville       June 1, 1796\n",
      "43      43             TX           Texas          Austin  December 29, 1845\n",
      "44      44             UT            Utah  Salt Lake City    January 4, 1896\n",
      "45      45             VT         Vermont      Montpelier      March 4, 1791\n",
      "46      46             VA        Virginia        Richmond      June 25, 1788\n",
      "47      47             WA      Washington         Olympia  November 11, 1889\n",
      "48      48             WV   West Virginia      Charleston      June 20, 1863\n",
      "49      49             WI       Wisconsin         Madison       May 29, 1848\n",
      "50      50             WY         Wyoming        Cheyenne      July 10, 1890,                                              0  \\\n",
      "0  vtePolitical divisions of the United States   \n",
      "1                                       States   \n",
      "2                             Federal district   \n",
      "3                                Insular areas   \n",
      "4                             Outlying islands   \n",
      "\n",
      "                                                   1  \n",
      "0                                                NaN  \n",
      "1  Alabama Alaska Arizona Arkansas California Col...  \n",
      "2                                   Washington, D.C.  \n",
      "3  American Samoa Guam Northern Mariana Islands P...  \n",
      "4  Baker Island Howland Island Jarvis Island John...  ]\n"
     ]
    }
   ],
   "source": [
    "print(fiftystates)"
   ]
  },
  {
   "cell_type": "code",
   "execution_count": 16,
   "metadata": {},
   "outputs": [
    {
     "name": "stdout",
     "output_type": "stream",
     "text": [
      "FMAC/HPI_1\n",
      "FMAC/HPI_2\n",
      "FMAC/HPI_3\n",
      "FMAC/HPI_4\n",
      "FMAC/HPI_5\n",
      "FMAC/HPI_6\n",
      "FMAC/HPI_7\n",
      "FMAC/HPI_8\n",
      "FMAC/HPI_9\n",
      "FMAC/HPI_10\n",
      "FMAC/HPI_11\n",
      "FMAC/HPI_12\n",
      "FMAC/HPI_13\n",
      "FMAC/HPI_14\n",
      "FMAC/HPI_15\n",
      "FMAC/HPI_16\n",
      "FMAC/HPI_17\n",
      "FMAC/HPI_18\n",
      "FMAC/HPI_19\n",
      "FMAC/HPI_20\n",
      "FMAC/HPI_21\n",
      "FMAC/HPI_22\n",
      "FMAC/HPI_23\n",
      "FMAC/HPI_24\n",
      "FMAC/HPI_25\n",
      "FMAC/HPI_26\n",
      "FMAC/HPI_27\n",
      "FMAC/HPI_28\n",
      "FMAC/HPI_29\n",
      "FMAC/HPI_30\n",
      "FMAC/HPI_31\n",
      "FMAC/HPI_32\n",
      "FMAC/HPI_33\n",
      "FMAC/HPI_34\n",
      "FMAC/HPI_35\n",
      "FMAC/HPI_36\n",
      "FMAC/HPI_37\n",
      "FMAC/HPI_38\n",
      "FMAC/HPI_39\n",
      "FMAC/HPI_40\n",
      "FMAC/HPI_41\n",
      "FMAC/HPI_42\n",
      "FMAC/HPI_43\n",
      "FMAC/HPI_44\n",
      "FMAC/HPI_45\n",
      "FMAC/HPI_46\n",
      "FMAC/HPI_47\n",
      "FMAC/HPI_48\n",
      "FMAC/HPI_49\n",
      "FMAC/HPI_50\n"
     ]
    }
   ],
   "source": [
    "#print(fiftystates[0][0])\n",
    "for abbv in fiftystates[0][0][1:]:\n",
    "    print(\"FMAC/HPI_\"+ str(abbv))"
   ]
  },
  {
   "cell_type": "markdown",
   "metadata": {},
   "source": [
    "Concatinating and Appending DataFrames"
   ]
  },
  {
   "cell_type": "code",
   "execution_count": 17,
   "metadata": {},
   "outputs": [],
   "source": [
    "#concatinating dataframes\n",
    "df1 =  pd.DataFrame({'SBI':[23,34,67,54],\n",
    "                    'Intrate':[2,4,5,6],\n",
    "                    'IndianGDP':[45,56,67,55]},\n",
    "                   index = [2001,2002,2003,2004])\n",
    "df2 =  pd.DataFrame({'SBI':[23,34,67,54],\n",
    "                    'Intrate':[2,4,4,6],\n",
    "                    'IndianGDP':[45,56,67,55]},\n",
    "                   index = [2005,2006,2007,2008])\n",
    "df3 =  pd.DataFrame({'SBI':[23,34,67,54],\n",
    "                    'Intrate':[2,4,6,6],\n",
    "                    'IndianGDPlow':[47,53,69,55]},\n",
    "                   index = [2001,2002,2003,2004])\n",
    "\n"
   ]
  },
  {
   "cell_type": "code",
   "execution_count": 18,
   "metadata": {},
   "outputs": [
    {
     "name": "stdout",
     "output_type": "stream",
     "text": [
      "      SBI  Intrate  IndianGDP\n",
      "2001   23        2         45\n",
      "2002   34        4         56\n",
      "2003   67        5         67\n",
      "2004   54        6         55\n",
      "2005   23        2         45\n",
      "2006   34        4         56\n",
      "2007   67        4         67\n",
      "2008   54        6         55\n"
     ]
    }
   ],
   "source": [
    "concat = pd.concat([df1,df2])\n",
    "print(concat)"
   ]
  },
  {
   "cell_type": "code",
   "execution_count": 19,
   "metadata": {},
   "outputs": [
    {
     "name": "stdout",
     "output_type": "stream",
     "text": [
      "      IndianGDP  IndianGDPlow  Intrate  SBI\n",
      "2001       45.0           NaN        2   23\n",
      "2002       56.0           NaN        4   34\n",
      "2003       67.0           NaN        5   67\n",
      "2004       55.0           NaN        6   54\n",
      "2005       45.0           NaN        2   23\n",
      "2006       56.0           NaN        4   34\n",
      "2007       67.0           NaN        4   67\n",
      "2008       55.0           NaN        6   54\n",
      "2001        NaN          47.0        2   23\n",
      "2002        NaN          53.0        4   34\n",
      "2003        NaN          69.0        6   67\n",
      "2004        NaN          55.0        6   54\n"
     ]
    },
    {
     "name": "stderr",
     "output_type": "stream",
     "text": [
      "C:\\Program Files (x86)\\Microsoft Visual Studio\\Shared\\Anaconda3_64\\lib\\site-packages\\ipykernel_launcher.py:1: FutureWarning: Sorting because non-concatenation axis is not aligned. A future version\n",
      "of pandas will change to not sort by default.\n",
      "\n",
      "To accept the future behavior, pass 'sort=True'.\n",
      "\n",
      "To retain the current behavior and silence the warning, pass sort=False\n",
      "\n",
      "  \"\"\"Entry point for launching an IPython kernel.\n"
     ]
    }
   ],
   "source": [
    "concat1 = pd.concat([df1,df2,df3])\n",
    "print(concat1)\n",
    "#here the data shows Nan because the data has  not been given yet to it"
   ]
  },
  {
   "cell_type": "code",
   "execution_count": 21,
   "metadata": {},
   "outputs": [
    {
     "name": "stdout",
     "output_type": "stream",
     "text": [
      "      SBI  Intrate  IndianGDP\n",
      "2001   23        2         45\n",
      "2002   34        4         56\n",
      "2003   67        5         67\n",
      "2004   54        6         55\n",
      "2005   23        2         45\n",
      "2006   34        4         56\n",
      "2007   67        4         67\n",
      "2008   54        6         55\n"
     ]
    }
   ],
   "source": [
    "#Appending that  is same like the appending the file\n",
    "df4 =  df1.append(df2)\n",
    "print(df4)"
   ]
  },
  {
   "cell_type": "code",
   "execution_count": 23,
   "metadata": {},
   "outputs": [
    {
     "name": "stdout",
     "output_type": "stream",
     "text": [
      "      IndianGDP  IndianGDPlow  Intrate  SBI\n",
      "2001       45.0           NaN        2   23\n",
      "2002       56.0           NaN        4   34\n",
      "2003       67.0           NaN        5   67\n",
      "2004       55.0           NaN        6   54\n",
      "2001        NaN          47.0        2   23\n",
      "2002        NaN          53.0        4   34\n",
      "2003        NaN          69.0        6   67\n",
      "2004        NaN          55.0        6   54\n"
     ]
    },
    {
     "name": "stderr",
     "output_type": "stream",
     "text": [
      "C:\\Program Files (x86)\\Microsoft Visual Studio\\Shared\\Anaconda3_64\\lib\\site-packages\\pandas\\core\\frame.py:6201: FutureWarning: Sorting because non-concatenation axis is not aligned. A future version\n",
      "of pandas will change to not sort by default.\n",
      "\n",
      "To accept the future behavior, pass 'sort=True'.\n",
      "\n",
      "To retain the current behavior and silence the warning, pass sort=False\n",
      "\n",
      "  sort=sort)\n"
     ]
    }
   ],
   "source": [
    "df5 = df1.append(df3)\n",
    "print(df5)\n",
    "#the similar thing has happened to that of the append as that of the append"
   ]
  },
  {
   "cell_type": "code",
   "execution_count": 26,
   "metadata": {},
   "outputs": [
    {
     "name": "stdout",
     "output_type": "stream",
     "text": [
      "   SBI  Intrate  IndianGDP\n",
      "0   23        2         45\n",
      "1   34        4         56\n",
      "2   67        5         67\n",
      "3   54        6         55\n",
      "4   80        2         50\n"
     ]
    }
   ],
   "source": [
    "#we can add series to the dataframe\n",
    "series = pd.Series([80,2,50], index =['SBI','Intrate','IndianGDP'])\n",
    "df4 = df1.append(series, ignore_index= True)\n",
    "print(df4)"
   ]
  },
  {
   "cell_type": "markdown",
   "metadata": {},
   "source": [
    "Joining and Merging DataFrames"
   ]
  },
  {
   "cell_type": "code",
   "execution_count": 32,
   "metadata": {},
   "outputs": [],
   "source": [
    "df1 =  pd.DataFrame({'SBI':[23,33,67,54],\n",
    "                    'Intrate':[2,4,5,6],\n",
    "                    'IndianGDP':[45,58,67,55]},\n",
    "                   index = [2001,2002,2003,2004])\n",
    "df2 =  pd.DataFrame({'SBI':[21,34,67,54],\n",
    "                    'Intrate':[2,4,5,6],\n",
    "                    'IndianGDP':[45,58,68,55]},\n",
    "                   index = [2005,2006,2007,2008])\n",
    "df3 =  pd.DataFrame({'SBI':[24,34,67,54],\n",
    "                    'Homeloan':[2,4,5,6],\n",
    "                    'IndianGDPlow':[45,56,67,55]},\n",
    "                   index = [2001,2002,2003,2004])\n"
   ]
  },
  {
   "cell_type": "code",
   "execution_count": 33,
   "metadata": {},
   "outputs": [
    {
     "name": "stdout",
     "output_type": "stream",
     "text": [
      "   SBI  Intrate_x  IndianGDP_x  Intrate_y  IndianGDP_y\n",
      "0   67          5           67          5           68\n",
      "1   54          6           55          6           55\n"
     ]
    }
   ],
   "source": [
    "#specify the index on which you want to merge the dataframes\n",
    "#merging  occurs based on the no. of similarities based on that index\n",
    "print(pd.merge(df1,df2 , on ='SBI'))"
   ]
  },
  {
   "cell_type": "code",
   "execution_count": 35,
   "metadata": {},
   "outputs": [
    {
     "name": "stdout",
     "output_type": "stream",
     "text": [
      "   SBI  Intrate  IndianGDP\n",
      "0   54        6         55\n"
     ]
    }
   ],
   "source": [
    "print(pd.merge(df1,df2 , on =['SBI','Intrate','IndianGDP']))"
   ]
  },
  {
   "cell_type": "code",
   "execution_count": 36,
   "metadata": {},
   "outputs": [
    {
     "name": "stdout",
     "output_type": "stream",
     "text": [
      "     Intrate  IndianGDP  Homeloan  IndianGDPlow\n",
      "SBI                                            \n",
      "23         2         45       NaN           NaN\n",
      "33         4         58       NaN           NaN\n",
      "67         5         67       5.0          67.0\n",
      "54         6         55       6.0          55.0\n"
     ]
    }
   ],
   "source": [
    "#joining the dataframes\n",
    "df1.set_index('SBI' , inplace= True)\n",
    "df3.set_index('SBI' , inplace= True)\n",
    "joined = df1.join(df3)\n",
    "print(joined)"
   ]
  },
  {
   "cell_type": "code",
   "execution_count": 38,
   "metadata": {},
   "outputs": [
    {
     "name": "stdout",
     "output_type": "stream",
     "text": [
      "     highrate  IndianGDP  lowrate  IndianGDPlow\n",
      "RBI                                            \n",
      "21          2         45        2            45\n",
      "23          5         67        4            58\n",
      "24          6         55        5            68\n"
     ]
    }
   ],
   "source": [
    "df1 =  pd.DataFrame({'RBI':[21,22,23,24],\n",
    "                    'highrate':[2,4,5,6],\n",
    "                    'IndianGDP':[45,58,67,55]},\n",
    "                   index = [2001,2002,2003,2004])\n",
    "df2 =  pd.DataFrame({'RBI':[21,23,24,25],\n",
    "                    'lowrate':[2,4,5,6],\n",
    "                    'IndianGDPlow':[45,58,68,55]},\n",
    "                   index = [2005,2006,2007,2008])\n",
    "merged =  pd.merge(df1,df2, on='RBI')\n",
    "merged.set_index('RBI',inplace = True)\n",
    "print(merged)"
   ]
  },
  {
   "cell_type": "code",
   "execution_count": 39,
   "metadata": {},
   "outputs": [
    {
     "name": "stdout",
     "output_type": "stream",
     "text": [
      "     highrate  IndianGDP  lowrate  IndianGDPlow\n",
      "RBI                                            \n",
      "21          2         45      2.0          45.0\n",
      "22          4         58      NaN           NaN\n",
      "23          5         67      4.0          58.0\n",
      "24          6         55      5.0          68.0\n"
     ]
    }
   ],
   "source": [
    "#we ahve left,right,outer and inner\n",
    "merged =  pd.merge(df1,df2, on='RBI', how ='left')#it merges based on the information that is on the left that is df1\n",
    "merged.set_index('RBI',inplace = True)\n",
    "print(merged)"
   ]
  },
  {
   "cell_type": "code",
   "execution_count": 40,
   "metadata": {},
   "outputs": [
    {
     "name": "stdout",
     "output_type": "stream",
     "text": [
      "     highrate  IndianGDP  lowrate  IndianGDPlow\n",
      "RBI                                            \n",
      "21        2.0       45.0      2.0          45.0\n",
      "22        4.0       58.0      NaN           NaN\n",
      "23        5.0       67.0      4.0          58.0\n",
      "24        6.0       55.0      5.0          68.0\n",
      "25        NaN        NaN      6.0          55.0\n"
     ]
    }
   ],
   "source": [
    "#outer\n",
    "merged =  pd.merge(df1,df2, on='RBI', how= 'outer')\n",
    "merged.set_index('RBI',inplace = True)\n",
    "print(merged)"
   ]
  },
  {
   "cell_type": "code",
   "execution_count": 41,
   "metadata": {},
   "outputs": [
    {
     "name": "stdout",
     "output_type": "stream",
     "text": [
      "     highrate  IndianGDP  lowrate  IndianGDPlow\n",
      "RBI                                            \n",
      "21          2         45        2            45\n",
      "23          5         67        4            58\n",
      "24          6         55        5            68\n"
     ]
    }
   ],
   "source": [
    "#inner = basically it is the default\n",
    "merged =  pd.merge(df1,df2, on='RBI',how ='inner')\n",
    "merged.set_index('RBI',inplace = True)\n",
    "print(merged)"
   ]
  },
  {
   "cell_type": "code",
   "execution_count": 42,
   "metadata": {},
   "outputs": [
    {
     "name": "stdout",
     "output_type": "stream",
     "text": [
      "     highrate  IndianGDP  lowrate  IndianGDPlow\n",
      "RBI                                            \n",
      "21        2.0       45.0        2            45\n",
      "23        5.0       67.0        4            58\n",
      "24        6.0       55.0        5            68\n",
      "25        NaN        NaN        6            55\n"
     ]
    }
   ],
   "source": [
    "#right\n",
    "merged =  pd.merge(df1,df2, on='RBI',how='right')\n",
    "merged.set_index('RBI',inplace = True)\n",
    "print(merged)"
   ]
  },
  {
   "cell_type": "code",
   "execution_count": null,
   "metadata": {},
   "outputs": [],
   "source": [
    "#mark the differences in the above datframes merging techniques"
   ]
  },
  {
   "cell_type": "code",
   "execution_count": 6,
   "metadata": {},
   "outputs": [],
   "source": [
    "import pandas as pd\n",
    "employee = pd.read_csv('G:/STUDY/Day2 and Day3/employment-us_zip/data/aat1_csv.csv')"
   ]
  },
  {
   "cell_type": "code",
   "execution_count": 8,
   "metadata": {},
   "outputs": [
    {
     "name": "stdout",
     "output_type": "stream",
     "text": [
      "   year  population  labor_force  population_percent  employed_total  \\\n",
      "0  1941       99900        55910                56.0           50350   \n",
      "1  1942       98640        56410                57.2           53750   \n",
      "2  1943       94640        55540                58.7           54470   \n",
      "3  1944       93220        54630                58.6           53960   \n",
      "4  1945       94090        53860                57.2           52820   \n",
      "\n",
      "   employed_percent  agrictulture_ratio  nonagriculture_ratio  unemployed  \\\n",
      "0              50.4                9100                 41250        5560   \n",
      "1              54.5                9250                 44500        2660   \n",
      "2              57.6                9080                 45390        1070   \n",
      "3              57.9                8950                 45010         670   \n",
      "4              56.1                8580                 44240        1040   \n",
      "\n",
      "   unemployed_percent  not_in_labor  footnotes  \n",
      "0                 9.9         43990        NaN  \n",
      "1                 4.7         42230        NaN  \n",
      "2                 1.9         39100        NaN  \n",
      "3                 1.2         38590        NaN  \n",
      "4                 1.9         40230        NaN  \n"
     ]
    }
   ],
   "source": [
    "print(employee.head())"
   ]
  },
  {
   "cell_type": "code",
   "execution_count": 10,
   "metadata": {},
   "outputs": [
    {
     "data": {
      "text/html": [
       "<div>\n",
       "<style scoped>\n",
       "    .dataframe tbody tr th:only-of-type {\n",
       "        vertical-align: middle;\n",
       "    }\n",
       "\n",
       "    .dataframe tbody tr th {\n",
       "        vertical-align: top;\n",
       "    }\n",
       "\n",
       "    .dataframe thead th {\n",
       "        text-align: right;\n",
       "    }\n",
       "</style>\n",
       "<table border=\"1\" class=\"dataframe\">\n",
       "  <thead>\n",
       "    <tr style=\"text-align: right;\">\n",
       "      <th></th>\n",
       "      <th>year,population,labor_force,population_percent,employed_total,employed_percent,agrictulture_ratio,nonagriculture_ratio,unemployed,unemployed_percent,not_in_labor,footnotes</th>\n",
       "    </tr>\n",
       "  </thead>\n",
       "  <tbody>\n",
       "    <tr>\n",
       "      <th>0</th>\n",
       "      <td>1941,99900,55910,56.0,50350,50.4,9100,41250,55...</td>\n",
       "    </tr>\n",
       "    <tr>\n",
       "      <th>1</th>\n",
       "      <td>1942,98640,56410,57.2,53750,54.5,9250,44500,26...</td>\n",
       "    </tr>\n",
       "    <tr>\n",
       "      <th>2</th>\n",
       "      <td>1943,94640,55540,58.7,54470,57.6,9080,45390,10...</td>\n",
       "    </tr>\n",
       "    <tr>\n",
       "      <th>3</th>\n",
       "      <td>1944,93220,54630,58.6,53960,57.9,8950,45010,67...</td>\n",
       "    </tr>\n",
       "  </tbody>\n",
       "</table>\n",
       "</div>"
      ],
      "text/plain": [
       "  year,population,labor_force,population_percent,employed_total,employed_percent,agrictulture_ratio,nonagriculture_ratio,unemployed,unemployed_percent,not_in_labor,footnotes\n",
       "0  1941,99900,55910,56.0,50350,50.4,9100,41250,55...                                                                                                                         \n",
       "1  1942,98640,56410,57.2,53750,54.5,9250,44500,26...                                                                                                                         \n",
       "2  1943,94640,55540,58.7,54470,57.6,9080,45390,10...                                                                                                                         \n",
       "3  1944,93220,54630,58.6,53960,57.9,8950,45010,67...                                                                                                                         "
      ]
     },
     "execution_count": 10,
     "metadata": {},
     "output_type": "execute_result"
    }
   ],
   "source": [
    "#choosing the no. of rows\n",
    "employee  = pd.read_table('G:/STUDY/Day2 and Day3/employment-us_zip/data/aat1_csv.csv',nrows =4)\n",
    "employee\n"
   ]
  },
  {
   "cell_type": "code",
   "execution_count": 11,
   "metadata": {},
   "outputs": [
    {
     "data": {
      "text/plain": [
       "year,population,labor_force,population_percent,employed_total,employed_percent,agrictulture_ratio,nonagriculture_ratio,unemployed,unemployed_percent,not_in_labor,footnotes    object\n",
       "dtype: object"
      ]
     },
     "execution_count": 11,
     "metadata": {},
     "output_type": "execute_result"
    }
   ],
   "source": [
    "#display data types\n",
    "employee.dtypes"
   ]
  },
  {
   "cell_type": "code",
   "execution_count": 14,
   "metadata": {},
   "outputs": [
    {
     "data": {
      "text/plain": [
       "Series([], dtype: object)"
      ]
     },
     "execution_count": 14,
     "metadata": {},
     "output_type": "execute_result"
    }
   ],
   "source": [
    "#display integer datatypes\n",
    "import numpy as np\n",
    "employee =  pd.read_table('G:/STUDY/Day2 and Day3/employment-us_zip/data/aat1_csv.csv')\n",
    "employee.select_dtypes(include=[np.number]).dtypes"
   ]
  },
  {
   "cell_type": "code",
   "execution_count": 15,
   "metadata": {},
   "outputs": [
    {
     "data": {
      "text/html": [
       "<div>\n",
       "<style scoped>\n",
       "    .dataframe tbody tr th:only-of-type {\n",
       "        vertical-align: middle;\n",
       "    }\n",
       "\n",
       "    .dataframe tbody tr th {\n",
       "        vertical-align: top;\n",
       "    }\n",
       "\n",
       "    .dataframe thead th {\n",
       "        text-align: right;\n",
       "    }\n",
       "</style>\n",
       "<table border=\"1\" class=\"dataframe\">\n",
       "  <thead>\n",
       "    <tr style=\"text-align: right;\">\n",
       "      <th></th>\n",
       "      <th>year,population,labor_force,population_percent,employed_total,employed_percent,agrictulture_ratio,nonagriculture_ratio,unemployed,unemployed_percent,not_in_labor,footnotes</th>\n",
       "    </tr>\n",
       "  </thead>\n",
       "  <tbody>\n",
       "    <tr>\n",
       "      <th>count</th>\n",
       "      <td>71</td>\n",
       "    </tr>\n",
       "    <tr>\n",
       "      <th>unique</th>\n",
       "      <td>71</td>\n",
       "    </tr>\n",
       "    <tr>\n",
       "      <th>top</th>\n",
       "      <td>1993,194838,129200,66.3,120259,61.7,3115,11714...</td>\n",
       "    </tr>\n",
       "    <tr>\n",
       "      <th>freq</th>\n",
       "      <td>1</td>\n",
       "    </tr>\n",
       "  </tbody>\n",
       "</table>\n",
       "</div>"
      ],
      "text/plain": [
       "       year,population,labor_force,population_percent,employed_total,employed_percent,agrictulture_ratio,nonagriculture_ratio,unemployed,unemployed_percent,not_in_labor,footnotes\n",
       "count                                                  71                                                                                                                         \n",
       "unique                                                 71                                                                                                                         \n",
       "top     1993,194838,129200,66.3,120259,61.7,3115,11714...                                                                                                                         \n",
       "freq                                                    1                                                                                                                         "
      ]
     },
     "execution_count": 15,
     "metadata": {},
     "output_type": "execute_result"
    }
   ],
   "source": [
    "employee.describe()"
   ]
  },
  {
   "cell_type": "code",
   "execution_count": 16,
   "metadata": {},
   "outputs": [
    {
     "data": {
      "text/plain": [
       "pandas.core.frame.DataFrame"
      ]
     },
     "execution_count": 16,
     "metadata": {},
     "output_type": "execute_result"
    }
   ],
   "source": [
    "#checkinh the type of object\n",
    "type(employee)"
   ]
  },
  {
   "cell_type": "markdown",
   "metadata": {},
   "source": [
    "Column Manipulation , Sorting and Filtering"
   ]
  },
  {
   "cell_type": "code",
   "execution_count": 29,
   "metadata": {},
   "outputs": [
    {
     "data": {
      "text/html": [
       "<div>\n",
       "<style scoped>\n",
       "    .dataframe tbody tr th:only-of-type {\n",
       "        vertical-align: middle;\n",
       "    }\n",
       "\n",
       "    .dataframe tbody tr th {\n",
       "        vertical-align: top;\n",
       "    }\n",
       "\n",
       "    .dataframe thead th {\n",
       "        text-align: right;\n",
       "    }\n",
       "</style>\n",
       "<table border=\"1\" class=\"dataframe\">\n",
       "  <thead>\n",
       "    <tr style=\"text-align: right;\">\n",
       "      <th></th>\n",
       "      <th>year</th>\n",
       "      <th>population</th>\n",
       "      <th>labor_force</th>\n",
       "      <th>population_percent</th>\n",
       "      <th>employed_total</th>\n",
       "      <th>employed_percent</th>\n",
       "      <th>agrictulture_ratio</th>\n",
       "      <th>nonagriculture_ratio</th>\n",
       "      <th>unemployed</th>\n",
       "      <th>unemployed_percent</th>\n",
       "      <th>not_in_labor</th>\n",
       "      <th>footnotes</th>\n",
       "    </tr>\n",
       "  </thead>\n",
       "  <tbody>\n",
       "    <tr>\n",
       "      <th>count</th>\n",
       "      <td>71.000000</td>\n",
       "      <td>71.000000</td>\n",
       "      <td>71.000000</td>\n",
       "      <td>71.000000</td>\n",
       "      <td>71.000000</td>\n",
       "      <td>71.000000</td>\n",
       "      <td>71.000000</td>\n",
       "      <td>71.000000</td>\n",
       "      <td>71.000000</td>\n",
       "      <td>71.000000</td>\n",
       "      <td>71.000000</td>\n",
       "      <td>21.0</td>\n",
       "    </tr>\n",
       "    <tr>\n",
       "      <th>mean</th>\n",
       "      <td>1975.098592</td>\n",
       "      <td>156272.521127</td>\n",
       "      <td>98707.492958</td>\n",
       "      <td>62.230986</td>\n",
       "      <td>93033.577465</td>\n",
       "      <td>58.773239</td>\n",
       "      <td>4456.492958</td>\n",
       "      <td>88577.028169</td>\n",
       "      <td>5673.774648</td>\n",
       "      <td>5.509859</td>\n",
       "      <td>57564.929577</td>\n",
       "      <td>1.0</td>\n",
       "    </tr>\n",
       "    <tr>\n",
       "      <th>std</th>\n",
       "      <td>20.486340</td>\n",
       "      <td>44979.642300</td>\n",
       "      <td>33380.727804</td>\n",
       "      <td>3.513793</td>\n",
       "      <td>30992.290437</td>\n",
       "      <td>3.140380</td>\n",
       "      <td>2055.547406</td>\n",
       "      <td>32739.727633</td>\n",
       "      <td>2954.030173</td>\n",
       "      <td>1.818803</td>\n",
       "      <td>11795.889143</td>\n",
       "      <td>0.0</td>\n",
       "    </tr>\n",
       "    <tr>\n",
       "      <th>min</th>\n",
       "      <td>1941.000000</td>\n",
       "      <td>93220.000000</td>\n",
       "      <td>53860.000000</td>\n",
       "      <td>55.800000</td>\n",
       "      <td>50350.000000</td>\n",
       "      <td>50.400000</td>\n",
       "      <td>2095.000000</td>\n",
       "      <td>41250.000000</td>\n",
       "      <td>670.000000</td>\n",
       "      <td>1.200000</td>\n",
       "      <td>38590.000000</td>\n",
       "      <td>1.0</td>\n",
       "    </tr>\n",
       "    <tr>\n",
       "      <th>25%</th>\n",
       "      <td>1957.500000</td>\n",
       "      <td>112996.000000</td>\n",
       "      <td>67284.000000</td>\n",
       "      <td>59.200000</td>\n",
       "      <td>63935.000000</td>\n",
       "      <td>56.400000</td>\n",
       "      <td>3235.000000</td>\n",
       "      <td>57818.500000</td>\n",
       "      <td>3131.500000</td>\n",
       "      <td>4.350000</td>\n",
       "      <td>45969.000000</td>\n",
       "      <td>1.0</td>\n",
       "    </tr>\n",
       "    <tr>\n",
       "      <th>50%</th>\n",
       "      <td>1975.000000</td>\n",
       "      <td>153153.000000</td>\n",
       "      <td>93774.000000</td>\n",
       "      <td>61.300000</td>\n",
       "      <td>86794.000000</td>\n",
       "      <td>57.800000</td>\n",
       "      <td>3440.000000</td>\n",
       "      <td>83279.000000</td>\n",
       "      <td>5692.000000</td>\n",
       "      <td>5.500000</td>\n",
       "      <td>59377.000000</td>\n",
       "      <td>1.0</td>\n",
       "    </tr>\n",
       "    <tr>\n",
       "      <th>75%</th>\n",
       "      <td>1992.500000</td>\n",
       "      <td>193821.500000</td>\n",
       "      <td>128652.500000</td>\n",
       "      <td>66.000000</td>\n",
       "      <td>119526.000000</td>\n",
       "      <td>61.950000</td>\n",
       "      <td>5766.500000</td>\n",
       "      <td>116357.000000</td>\n",
       "      <td>7614.000000</td>\n",
       "      <td>6.450000</td>\n",
       "      <td>65169.000000</td>\n",
       "      <td>1.0</td>\n",
       "    </tr>\n",
       "    <tr>\n",
       "      <th>max</th>\n",
       "      <td>2010.000000</td>\n",
       "      <td>237830.000000</td>\n",
       "      <td>154287.000000</td>\n",
       "      <td>67.100000</td>\n",
       "      <td>146047.000000</td>\n",
       "      <td>64.400000</td>\n",
       "      <td>9250.000000</td>\n",
       "      <td>143952.000000</td>\n",
       "      <td>14825.000000</td>\n",
       "      <td>9.900000</td>\n",
       "      <td>83941.000000</td>\n",
       "      <td>1.0</td>\n",
       "    </tr>\n",
       "  </tbody>\n",
       "</table>\n",
       "</div>"
      ],
      "text/plain": [
       "              year     population    labor_force  population_percent  \\\n",
       "count    71.000000      71.000000      71.000000           71.000000   \n",
       "mean   1975.098592  156272.521127   98707.492958           62.230986   \n",
       "std      20.486340   44979.642300   33380.727804            3.513793   \n",
       "min    1941.000000   93220.000000   53860.000000           55.800000   \n",
       "25%    1957.500000  112996.000000   67284.000000           59.200000   \n",
       "50%    1975.000000  153153.000000   93774.000000           61.300000   \n",
       "75%    1992.500000  193821.500000  128652.500000           66.000000   \n",
       "max    2010.000000  237830.000000  154287.000000           67.100000   \n",
       "\n",
       "       employed_total  employed_percent  agrictulture_ratio  \\\n",
       "count       71.000000         71.000000           71.000000   \n",
       "mean     93033.577465         58.773239         4456.492958   \n",
       "std      30992.290437          3.140380         2055.547406   \n",
       "min      50350.000000         50.400000         2095.000000   \n",
       "25%      63935.000000         56.400000         3235.000000   \n",
       "50%      86794.000000         57.800000         3440.000000   \n",
       "75%     119526.000000         61.950000         5766.500000   \n",
       "max     146047.000000         64.400000         9250.000000   \n",
       "\n",
       "       nonagriculture_ratio    unemployed  unemployed_percent  not_in_labor  \\\n",
       "count             71.000000     71.000000           71.000000     71.000000   \n",
       "mean           88577.028169   5673.774648            5.509859  57564.929577   \n",
       "std            32739.727633   2954.030173            1.818803  11795.889143   \n",
       "min            41250.000000    670.000000            1.200000  38590.000000   \n",
       "25%            57818.500000   3131.500000            4.350000  45969.000000   \n",
       "50%            83279.000000   5692.000000            5.500000  59377.000000   \n",
       "75%           116357.000000   7614.000000            6.450000  65169.000000   \n",
       "max           143952.000000  14825.000000            9.900000  83941.000000   \n",
       "\n",
       "       footnotes  \n",
       "count       21.0  \n",
       "mean         1.0  \n",
       "std          0.0  \n",
       "min          1.0  \n",
       "25%          1.0  \n",
       "50%          1.0  \n",
       "75%          1.0  \n",
       "max          1.0  "
      ]
     },
     "execution_count": 29,
     "metadata": {},
     "output_type": "execute_result"
    }
   ],
   "source": [
    "empployee = pd.read_csv('G:/STUDY/Day2 and Day3/employment-us_zip/data/aat1_csv.csv')\n",
    "empployee.describe()"
   ]
  },
  {
   "cell_type": "code",
   "execution_count": 30,
   "metadata": {},
   "outputs": [
    {
     "data": {
      "text/plain": [
       "year                      1975.098592\n",
       "population              156272.521127\n",
       "labor_force              98707.492958\n",
       "population_percent          62.230986\n",
       "employed_total           93033.577465\n",
       "employed_percent            58.773239\n",
       "agrictulture_ratio        4456.492958\n",
       "nonagriculture_ratio     88577.028169\n",
       "unemployed                5673.774648\n",
       "unemployed_percent           5.509859\n",
       "not_in_labor             57564.929577\n",
       "footnotes                    1.000000\n",
       "dtype: float64"
      ]
     },
     "execution_count": 30,
     "metadata": {},
     "output_type": "execute_result"
    }
   ],
   "source": [
    "#calculating the mean\n",
    "empployee.mean()"
   ]
  },
  {
   "cell_type": "code",
   "execution_count": 32,
   "metadata": {},
   "outputs": [
    {
     "data": {
      "text/html": [
       "<div>\n",
       "<style scoped>\n",
       "    .dataframe tbody tr th:only-of-type {\n",
       "        vertical-align: middle;\n",
       "    }\n",
       "\n",
       "    .dataframe tbody tr th {\n",
       "        vertical-align: top;\n",
       "    }\n",
       "\n",
       "    .dataframe thead th {\n",
       "        text-align: right;\n",
       "    }\n",
       "</style>\n",
       "<table border=\"1\" class=\"dataframe\">\n",
       "  <thead>\n",
       "    <tr style=\"text-align: right;\">\n",
       "      <th></th>\n",
       "      <th>year</th>\n",
       "      <th>population</th>\n",
       "      <th>labor_force</th>\n",
       "      <th>population_percent</th>\n",
       "      <th>employed_total</th>\n",
       "      <th>employed_percent</th>\n",
       "      <th>agrictulture_ratio</th>\n",
       "      <th>nonagriculture_ratio</th>\n",
       "      <th>unemployed</th>\n",
       "      <th>unemployed_percent</th>\n",
       "      <th>not_in_labor</th>\n",
       "      <th>footnotes</th>\n",
       "    </tr>\n",
       "  </thead>\n",
       "  <tbody>\n",
       "    <tr>\n",
       "      <th>0</th>\n",
       "      <td>1941</td>\n",
       "      <td>99900</td>\n",
       "      <td>55910</td>\n",
       "      <td>56.0</td>\n",
       "      <td>50350</td>\n",
       "      <td>50.4</td>\n",
       "      <td>9100</td>\n",
       "      <td>41250</td>\n",
       "      <td>5560</td>\n",
       "      <td>9.9</td>\n",
       "      <td>43990</td>\n",
       "      <td>NaN</td>\n",
       "    </tr>\n",
       "    <tr>\n",
       "      <th>1</th>\n",
       "      <td>1942</td>\n",
       "      <td>98640</td>\n",
       "      <td>56410</td>\n",
       "      <td>57.2</td>\n",
       "      <td>53750</td>\n",
       "      <td>54.5</td>\n",
       "      <td>9250</td>\n",
       "      <td>44500</td>\n",
       "      <td>2660</td>\n",
       "      <td>4.7</td>\n",
       "      <td>42230</td>\n",
       "      <td>NaN</td>\n",
       "    </tr>\n",
       "    <tr>\n",
       "      <th>2</th>\n",
       "      <td>1943</td>\n",
       "      <td>94640</td>\n",
       "      <td>55540</td>\n",
       "      <td>58.7</td>\n",
       "      <td>54470</td>\n",
       "      <td>57.6</td>\n",
       "      <td>9080</td>\n",
       "      <td>45390</td>\n",
       "      <td>1070</td>\n",
       "      <td>1.9</td>\n",
       "      <td>39100</td>\n",
       "      <td>NaN</td>\n",
       "    </tr>\n",
       "    <tr>\n",
       "      <th>3</th>\n",
       "      <td>1944</td>\n",
       "      <td>93220</td>\n",
       "      <td>54630</td>\n",
       "      <td>58.6</td>\n",
       "      <td>53960</td>\n",
       "      <td>57.9</td>\n",
       "      <td>8950</td>\n",
       "      <td>45010</td>\n",
       "      <td>670</td>\n",
       "      <td>1.2</td>\n",
       "      <td>38590</td>\n",
       "      <td>NaN</td>\n",
       "    </tr>\n",
       "    <tr>\n",
       "      <th>4</th>\n",
       "      <td>1945</td>\n",
       "      <td>94090</td>\n",
       "      <td>53860</td>\n",
       "      <td>57.2</td>\n",
       "      <td>52820</td>\n",
       "      <td>56.1</td>\n",
       "      <td>8580</td>\n",
       "      <td>44240</td>\n",
       "      <td>1040</td>\n",
       "      <td>1.9</td>\n",
       "      <td>40230</td>\n",
       "      <td>NaN</td>\n",
       "    </tr>\n",
       "  </tbody>\n",
       "</table>\n",
       "</div>"
      ],
      "text/plain": [
       "   year  population  labor_force  population_percent  employed_total  \\\n",
       "0  1941       99900        55910                56.0           50350   \n",
       "1  1942       98640        56410                57.2           53750   \n",
       "2  1943       94640        55540                58.7           54470   \n",
       "3  1944       93220        54630                58.6           53960   \n",
       "4  1945       94090        53860                57.2           52820   \n",
       "\n",
       "   employed_percent  agrictulture_ratio  nonagriculture_ratio  unemployed  \\\n",
       "0              50.4                9100                 41250        5560   \n",
       "1              54.5                9250                 44500        2660   \n",
       "2              57.6                9080                 45390        1070   \n",
       "3              57.9                8950                 45010         670   \n",
       "4              56.1                8580                 44240        1040   \n",
       "\n",
       "   unemployed_percent  not_in_labor  footnotes  \n",
       "0                 9.9         43990        NaN  \n",
       "1                 4.7         42230        NaN  \n",
       "2                 1.9         39100        NaN  \n",
       "3                 1.2         38590        NaN  \n",
       "4                 1.9         40230        NaN  "
      ]
     },
     "execution_count": 32,
     "metadata": {},
     "output_type": "execute_result"
    }
   ],
   "source": [
    "#sorting it in order of a feature\n",
    "empployee.sort_values(by ='year',ascending =True).head()"
   ]
  },
  {
   "cell_type": "code",
   "execution_count": 34,
   "metadata": {},
   "outputs": [
    {
     "data": {
      "text/html": [
       "<div>\n",
       "<style scoped>\n",
       "    .dataframe tbody tr th:only-of-type {\n",
       "        vertical-align: middle;\n",
       "    }\n",
       "\n",
       "    .dataframe tbody tr th {\n",
       "        vertical-align: top;\n",
       "    }\n",
       "\n",
       "    .dataframe thead th {\n",
       "        text-align: right;\n",
       "    }\n",
       "</style>\n",
       "<table border=\"1\" class=\"dataframe\">\n",
       "  <thead>\n",
       "    <tr style=\"text-align: right;\">\n",
       "      <th></th>\n",
       "      <th>year</th>\n",
       "      <th>population</th>\n",
       "      <th>labor_force</th>\n",
       "      <th>population_percent</th>\n",
       "      <th>employed_total</th>\n",
       "      <th>employed_percent</th>\n",
       "      <th>agrictulture_ratio</th>\n",
       "      <th>nonagriculture_ratio</th>\n",
       "      <th>unemployed</th>\n",
       "      <th>unemployed_percent</th>\n",
       "      <th>not_in_labor</th>\n",
       "      <th>footnotes</th>\n",
       "    </tr>\n",
       "  </thead>\n",
       "  <tbody>\n",
       "    <tr>\n",
       "      <th>70</th>\n",
       "      <td>2010</td>\n",
       "      <td>237830</td>\n",
       "      <td>153889</td>\n",
       "      <td>64.7</td>\n",
       "      <td>139064</td>\n",
       "      <td>58.5</td>\n",
       "      <td>2206</td>\n",
       "      <td>136858</td>\n",
       "      <td>14825</td>\n",
       "      <td>9.6</td>\n",
       "      <td>83941</td>\n",
       "      <td>1.0</td>\n",
       "    </tr>\n",
       "    <tr>\n",
       "      <th>69</th>\n",
       "      <td>2009</td>\n",
       "      <td>235801</td>\n",
       "      <td>154142</td>\n",
       "      <td>65.4</td>\n",
       "      <td>139877</td>\n",
       "      <td>59.3</td>\n",
       "      <td>2103</td>\n",
       "      <td>137775</td>\n",
       "      <td>14265</td>\n",
       "      <td>9.3</td>\n",
       "      <td>81659</td>\n",
       "      <td>1.0</td>\n",
       "    </tr>\n",
       "    <tr>\n",
       "      <th>68</th>\n",
       "      <td>2008</td>\n",
       "      <td>233788</td>\n",
       "      <td>154287</td>\n",
       "      <td>66.0</td>\n",
       "      <td>145362</td>\n",
       "      <td>62.2</td>\n",
       "      <td>2168</td>\n",
       "      <td>143194</td>\n",
       "      <td>8924</td>\n",
       "      <td>5.8</td>\n",
       "      <td>79501</td>\n",
       "      <td>1.0</td>\n",
       "    </tr>\n",
       "    <tr>\n",
       "      <th>67</th>\n",
       "      <td>2007</td>\n",
       "      <td>231867</td>\n",
       "      <td>153124</td>\n",
       "      <td>66.0</td>\n",
       "      <td>146047</td>\n",
       "      <td>63.0</td>\n",
       "      <td>2095</td>\n",
       "      <td>143952</td>\n",
       "      <td>7078</td>\n",
       "      <td>4.6</td>\n",
       "      <td>78743</td>\n",
       "      <td>1.0</td>\n",
       "    </tr>\n",
       "    <tr>\n",
       "      <th>66</th>\n",
       "      <td>2006</td>\n",
       "      <td>228815</td>\n",
       "      <td>151428</td>\n",
       "      <td>66.2</td>\n",
       "      <td>144427</td>\n",
       "      <td>63.1</td>\n",
       "      <td>2206</td>\n",
       "      <td>142221</td>\n",
       "      <td>7001</td>\n",
       "      <td>4.6</td>\n",
       "      <td>77387</td>\n",
       "      <td>1.0</td>\n",
       "    </tr>\n",
       "  </tbody>\n",
       "</table>\n",
       "</div>"
      ],
      "text/plain": [
       "    year  population  labor_force  population_percent  employed_total  \\\n",
       "70  2010      237830       153889                64.7          139064   \n",
       "69  2009      235801       154142                65.4          139877   \n",
       "68  2008      233788       154287                66.0          145362   \n",
       "67  2007      231867       153124                66.0          146047   \n",
       "66  2006      228815       151428                66.2          144427   \n",
       "\n",
       "    employed_percent  agrictulture_ratio  nonagriculture_ratio  unemployed  \\\n",
       "70              58.5                2206                136858       14825   \n",
       "69              59.3                2103                137775       14265   \n",
       "68              62.2                2168                143194        8924   \n",
       "67              63.0                2095                143952        7078   \n",
       "66              63.1                2206                142221        7001   \n",
       "\n",
       "    unemployed_percent  not_in_labor  footnotes  \n",
       "70                 9.6         83941        1.0  \n",
       "69                 9.3         81659        1.0  \n",
       "68                 5.8         79501        1.0  \n",
       "67                 4.6         78743        1.0  \n",
       "66                 4.6         77387        1.0  "
      ]
     },
     "execution_count": 34,
     "metadata": {},
     "output_type": "execute_result"
    }
   ],
   "source": [
    "empployee.sort_values(by ='year',ascending =False).head()"
   ]
  },
  {
   "cell_type": "code",
   "execution_count": 38,
   "metadata": {},
   "outputs": [
    {
     "data": {
      "text/html": [
       "<div>\n",
       "<style scoped>\n",
       "    .dataframe tbody tr th:only-of-type {\n",
       "        vertical-align: middle;\n",
       "    }\n",
       "\n",
       "    .dataframe tbody tr th {\n",
       "        vertical-align: top;\n",
       "    }\n",
       "\n",
       "    .dataframe thead th {\n",
       "        text-align: right;\n",
       "    }\n",
       "</style>\n",
       "<table border=\"1\" class=\"dataframe\">\n",
       "  <thead>\n",
       "    <tr style=\"text-align: right;\">\n",
       "      <th></th>\n",
       "      <th>year</th>\n",
       "      <th>population</th>\n",
       "      <th>labor_force</th>\n",
       "      <th>population_percent</th>\n",
       "      <th>employed_total</th>\n",
       "      <th>employed_percent</th>\n",
       "      <th>agrictulture_ratio</th>\n",
       "      <th>nonagriculture_ratio</th>\n",
       "      <th>unemployed</th>\n",
       "      <th>unemployed_percent</th>\n",
       "      <th>not_in_labor</th>\n",
       "      <th>footnotes</th>\n",
       "      <th>name salary</th>\n",
       "      <th>year population</th>\n",
       "      <th>year,  population</th>\n",
       "    </tr>\n",
       "  </thead>\n",
       "  <tbody>\n",
       "    <tr>\n",
       "      <th>0</th>\n",
       "      <td>1941</td>\n",
       "      <td>99900</td>\n",
       "      <td>55910</td>\n",
       "      <td>56.0</td>\n",
       "      <td>50350</td>\n",
       "      <td>50.4</td>\n",
       "      <td>9100</td>\n",
       "      <td>41250</td>\n",
       "      <td>5560</td>\n",
       "      <td>9.9</td>\n",
       "      <td>43990</td>\n",
       "      <td>NaN</td>\n",
       "      <td>101841</td>\n",
       "      <td>101841</td>\n",
       "      <td>101841</td>\n",
       "    </tr>\n",
       "    <tr>\n",
       "      <th>1</th>\n",
       "      <td>1942</td>\n",
       "      <td>98640</td>\n",
       "      <td>56410</td>\n",
       "      <td>57.2</td>\n",
       "      <td>53750</td>\n",
       "      <td>54.5</td>\n",
       "      <td>9250</td>\n",
       "      <td>44500</td>\n",
       "      <td>2660</td>\n",
       "      <td>4.7</td>\n",
       "      <td>42230</td>\n",
       "      <td>NaN</td>\n",
       "      <td>100582</td>\n",
       "      <td>100582</td>\n",
       "      <td>100582</td>\n",
       "    </tr>\n",
       "    <tr>\n",
       "      <th>2</th>\n",
       "      <td>1943</td>\n",
       "      <td>94640</td>\n",
       "      <td>55540</td>\n",
       "      <td>58.7</td>\n",
       "      <td>54470</td>\n",
       "      <td>57.6</td>\n",
       "      <td>9080</td>\n",
       "      <td>45390</td>\n",
       "      <td>1070</td>\n",
       "      <td>1.9</td>\n",
       "      <td>39100</td>\n",
       "      <td>NaN</td>\n",
       "      <td>96583</td>\n",
       "      <td>96583</td>\n",
       "      <td>96583</td>\n",
       "    </tr>\n",
       "    <tr>\n",
       "      <th>3</th>\n",
       "      <td>1944</td>\n",
       "      <td>93220</td>\n",
       "      <td>54630</td>\n",
       "      <td>58.6</td>\n",
       "      <td>53960</td>\n",
       "      <td>57.9</td>\n",
       "      <td>8950</td>\n",
       "      <td>45010</td>\n",
       "      <td>670</td>\n",
       "      <td>1.2</td>\n",
       "      <td>38590</td>\n",
       "      <td>NaN</td>\n",
       "      <td>95164</td>\n",
       "      <td>95164</td>\n",
       "      <td>95164</td>\n",
       "    </tr>\n",
       "    <tr>\n",
       "      <th>4</th>\n",
       "      <td>1945</td>\n",
       "      <td>94090</td>\n",
       "      <td>53860</td>\n",
       "      <td>57.2</td>\n",
       "      <td>52820</td>\n",
       "      <td>56.1</td>\n",
       "      <td>8580</td>\n",
       "      <td>44240</td>\n",
       "      <td>1040</td>\n",
       "      <td>1.9</td>\n",
       "      <td>40230</td>\n",
       "      <td>NaN</td>\n",
       "      <td>96035</td>\n",
       "      <td>96035</td>\n",
       "      <td>96035</td>\n",
       "    </tr>\n",
       "  </tbody>\n",
       "</table>\n",
       "</div>"
      ],
      "text/plain": [
       "   year  population  labor_force  population_percent  employed_total  \\\n",
       "0  1941       99900        55910                56.0           50350   \n",
       "1  1942       98640        56410                57.2           53750   \n",
       "2  1943       94640        55540                58.7           54470   \n",
       "3  1944       93220        54630                58.6           53960   \n",
       "4  1945       94090        53860                57.2           52820   \n",
       "\n",
       "   employed_percent  agrictulture_ratio  nonagriculture_ratio  unemployed  \\\n",
       "0              50.4                9100                 41250        5560   \n",
       "1              54.5                9250                 44500        2660   \n",
       "2              57.6                9080                 45390        1070   \n",
       "3              57.9                8950                 45010         670   \n",
       "4              56.1                8580                 44240        1040   \n",
       "\n",
       "   unemployed_percent  not_in_labor  footnotes  name salary  year population  \\\n",
       "0                 9.9         43990        NaN       101841           101841   \n",
       "1                 4.7         42230        NaN       100582           100582   \n",
       "2                 1.9         39100        NaN        96583            96583   \n",
       "3                 1.2         38590        NaN        95164            95164   \n",
       "4                 1.9         40230        NaN        96035            96035   \n",
       "\n",
       "   year,  population  \n",
       "0             101841  \n",
       "1             100582  \n",
       "2              96583  \n",
       "3              95164  \n",
       "4              96035  "
      ]
     },
     "execution_count": 38,
     "metadata": {},
     "output_type": "execute_result"
    }
   ],
   "source": [
    "#concatinating two columns\n",
    "empployee['year,  population'] = empployee['year'] + empployee['population']\n",
    "empployee.head()"
   ]
  },
  {
   "cell_type": "code",
   "execution_count": 39,
   "metadata": {},
   "outputs": [
    {
     "name": "stdout",
     "output_type": "stream",
     "text": [
      "Index(['year', 'population', 'labor_force', 'population_percent',\n",
      "       'employed_total', 'employed_percent', 'agrictulture_ratio',\n",
      "       'nonagriculture_ratio', 'unemployed', 'unemployed_percent',\n",
      "       'not_in_labor', 'footnotes', 'name salary', 'year population',\n",
      "       'year,  population'],\n",
      "      dtype='object')\n"
     ]
    }
   ],
   "source": [
    "#columns of the dataset\n",
    "print(empployee.columns)"
   ]
  },
  {
   "cell_type": "code",
   "execution_count": 40,
   "metadata": {},
   "outputs": [
    {
     "data": {
      "text/html": [
       "<div>\n",
       "<style scoped>\n",
       "    .dataframe tbody tr th:only-of-type {\n",
       "        vertical-align: middle;\n",
       "    }\n",
       "\n",
       "    .dataframe tbody tr th {\n",
       "        vertical-align: top;\n",
       "    }\n",
       "\n",
       "    .dataframe thead th {\n",
       "        text-align: right;\n",
       "    }\n",
       "</style>\n",
       "<table border=\"1\" class=\"dataframe\">\n",
       "  <thead>\n",
       "    <tr style=\"text-align: right;\">\n",
       "      <th></th>\n",
       "      <th>year</th>\n",
       "      <th>population</th>\n",
       "      <th>population_percent</th>\n",
       "      <th>employed_total</th>\n",
       "      <th>employed_percent</th>\n",
       "      <th>agrictulture_ratio</th>\n",
       "      <th>nonagriculture_ratio</th>\n",
       "      <th>unemployed</th>\n",
       "      <th>unemployed_percent</th>\n",
       "      <th>not_in_labor</th>\n",
       "      <th>footnotes</th>\n",
       "      <th>name salary</th>\n",
       "      <th>year population</th>\n",
       "      <th>year,  population</th>\n",
       "    </tr>\n",
       "  </thead>\n",
       "  <tbody>\n",
       "    <tr>\n",
       "      <th>0</th>\n",
       "      <td>1941</td>\n",
       "      <td>99900</td>\n",
       "      <td>56.0</td>\n",
       "      <td>50350</td>\n",
       "      <td>50.4</td>\n",
       "      <td>9100</td>\n",
       "      <td>41250</td>\n",
       "      <td>5560</td>\n",
       "      <td>9.9</td>\n",
       "      <td>43990</td>\n",
       "      <td>NaN</td>\n",
       "      <td>101841</td>\n",
       "      <td>101841</td>\n",
       "      <td>101841</td>\n",
       "    </tr>\n",
       "    <tr>\n",
       "      <th>1</th>\n",
       "      <td>1942</td>\n",
       "      <td>98640</td>\n",
       "      <td>57.2</td>\n",
       "      <td>53750</td>\n",
       "      <td>54.5</td>\n",
       "      <td>9250</td>\n",
       "      <td>44500</td>\n",
       "      <td>2660</td>\n",
       "      <td>4.7</td>\n",
       "      <td>42230</td>\n",
       "      <td>NaN</td>\n",
       "      <td>100582</td>\n",
       "      <td>100582</td>\n",
       "      <td>100582</td>\n",
       "    </tr>\n",
       "    <tr>\n",
       "      <th>2</th>\n",
       "      <td>1943</td>\n",
       "      <td>94640</td>\n",
       "      <td>58.7</td>\n",
       "      <td>54470</td>\n",
       "      <td>57.6</td>\n",
       "      <td>9080</td>\n",
       "      <td>45390</td>\n",
       "      <td>1070</td>\n",
       "      <td>1.9</td>\n",
       "      <td>39100</td>\n",
       "      <td>NaN</td>\n",
       "      <td>96583</td>\n",
       "      <td>96583</td>\n",
       "      <td>96583</td>\n",
       "    </tr>\n",
       "    <tr>\n",
       "      <th>3</th>\n",
       "      <td>1944</td>\n",
       "      <td>93220</td>\n",
       "      <td>58.6</td>\n",
       "      <td>53960</td>\n",
       "      <td>57.9</td>\n",
       "      <td>8950</td>\n",
       "      <td>45010</td>\n",
       "      <td>670</td>\n",
       "      <td>1.2</td>\n",
       "      <td>38590</td>\n",
       "      <td>NaN</td>\n",
       "      <td>95164</td>\n",
       "      <td>95164</td>\n",
       "      <td>95164</td>\n",
       "    </tr>\n",
       "    <tr>\n",
       "      <th>4</th>\n",
       "      <td>1945</td>\n",
       "      <td>94090</td>\n",
       "      <td>57.2</td>\n",
       "      <td>52820</td>\n",
       "      <td>56.1</td>\n",
       "      <td>8580</td>\n",
       "      <td>44240</td>\n",
       "      <td>1040</td>\n",
       "      <td>1.9</td>\n",
       "      <td>40230</td>\n",
       "      <td>NaN</td>\n",
       "      <td>96035</td>\n",
       "      <td>96035</td>\n",
       "      <td>96035</td>\n",
       "    </tr>\n",
       "  </tbody>\n",
       "</table>\n",
       "</div>"
      ],
      "text/plain": [
       "   year  population  population_percent  employed_total  employed_percent  \\\n",
       "0  1941       99900                56.0           50350              50.4   \n",
       "1  1942       98640                57.2           53750              54.5   \n",
       "2  1943       94640                58.7           54470              57.6   \n",
       "3  1944       93220                58.6           53960              57.9   \n",
       "4  1945       94090                57.2           52820              56.1   \n",
       "\n",
       "   agrictulture_ratio  nonagriculture_ratio  unemployed  unemployed_percent  \\\n",
       "0                9100                 41250        5560                 9.9   \n",
       "1                9250                 44500        2660                 4.7   \n",
       "2                9080                 45390        1070                 1.9   \n",
       "3                8950                 45010         670                 1.2   \n",
       "4                8580                 44240        1040                 1.9   \n",
       "\n",
       "   not_in_labor  footnotes  name salary  year population  year,  population  \n",
       "0         43990        NaN       101841           101841             101841  \n",
       "1         42230        NaN       100582           100582             100582  \n",
       "2         39100        NaN        96583            96583              96583  \n",
       "3         38590        NaN        95164            95164              95164  \n",
       "4         40230        NaN        96035            96035              96035  "
      ]
     },
     "execution_count": 40,
     "metadata": {},
     "output_type": "execute_result"
    }
   ],
   "source": [
    "#removing a column of the dataset\n",
    "empployee.drop('labor_force',axis=1,inplace =True)\n",
    "#for dropping rows change the axis to 0\n",
    "empployee.head()"
   ]
  },
  {
   "cell_type": "markdown",
   "metadata": {},
   "source": [
    "Filtering , String Manipulations and Aggregrations"
   ]
  },
  {
   "cell_type": "code",
   "execution_count": 42,
   "metadata": {},
   "outputs": [
    {
     "data": {
      "text/html": [
       "<div>\n",
       "<style scoped>\n",
       "    .dataframe tbody tr th:only-of-type {\n",
       "        vertical-align: middle;\n",
       "    }\n",
       "\n",
       "    .dataframe tbody tr th {\n",
       "        vertical-align: top;\n",
       "    }\n",
       "\n",
       "    .dataframe thead th {\n",
       "        text-align: right;\n",
       "    }\n",
       "</style>\n",
       "<table border=\"1\" class=\"dataframe\">\n",
       "  <thead>\n",
       "    <tr style=\"text-align: right;\">\n",
       "      <th></th>\n",
       "      <th>year</th>\n",
       "      <th>population</th>\n",
       "      <th>population_percent</th>\n",
       "      <th>employed_total</th>\n",
       "      <th>employed_percent</th>\n",
       "      <th>agrictulture_ratio</th>\n",
       "      <th>nonagriculture_ratio</th>\n",
       "      <th>unemployed</th>\n",
       "      <th>unemployed_percent</th>\n",
       "      <th>not_in_labor</th>\n",
       "      <th>footnotes</th>\n",
       "      <th>name salary</th>\n",
       "      <th>year population</th>\n",
       "      <th>year,  population</th>\n",
       "    </tr>\n",
       "  </thead>\n",
       "  <tbody>\n",
       "    <tr>\n",
       "      <th>5</th>\n",
       "      <td>1946</td>\n",
       "      <td>103070</td>\n",
       "      <td>55.8</td>\n",
       "      <td>55250</td>\n",
       "      <td>53.6</td>\n",
       "      <td>8320</td>\n",
       "      <td>46930</td>\n",
       "      <td>2270</td>\n",
       "      <td>3.9</td>\n",
       "      <td>45550</td>\n",
       "      <td>NaN</td>\n",
       "      <td>105016</td>\n",
       "      <td>105016</td>\n",
       "      <td>105016</td>\n",
       "    </tr>\n",
       "    <tr>\n",
       "      <th>6</th>\n",
       "      <td>1947</td>\n",
       "      <td>106018</td>\n",
       "      <td>56.8</td>\n",
       "      <td>57812</td>\n",
       "      <td>54.5</td>\n",
       "      <td>8256</td>\n",
       "      <td>49557</td>\n",
       "      <td>2356</td>\n",
       "      <td>3.9</td>\n",
       "      <td>45850</td>\n",
       "      <td>NaN</td>\n",
       "      <td>107965</td>\n",
       "      <td>107965</td>\n",
       "      <td>107965</td>\n",
       "    </tr>\n",
       "    <tr>\n",
       "      <th>7</th>\n",
       "      <td>1947</td>\n",
       "      <td>101827</td>\n",
       "      <td>58.3</td>\n",
       "      <td>57038</td>\n",
       "      <td>56.0</td>\n",
       "      <td>7890</td>\n",
       "      <td>49148</td>\n",
       "      <td>2311</td>\n",
       "      <td>3.9</td>\n",
       "      <td>42477</td>\n",
       "      <td>NaN</td>\n",
       "      <td>103774</td>\n",
       "      <td>103774</td>\n",
       "      <td>103774</td>\n",
       "    </tr>\n",
       "    <tr>\n",
       "      <th>8</th>\n",
       "      <td>1948</td>\n",
       "      <td>103068</td>\n",
       "      <td>58.8</td>\n",
       "      <td>58343</td>\n",
       "      <td>56.6</td>\n",
       "      <td>7629</td>\n",
       "      <td>50714</td>\n",
       "      <td>2276</td>\n",
       "      <td>3.8</td>\n",
       "      <td>42447</td>\n",
       "      <td>NaN</td>\n",
       "      <td>105016</td>\n",
       "      <td>105016</td>\n",
       "      <td>105016</td>\n",
       "    </tr>\n",
       "    <tr>\n",
       "      <th>9</th>\n",
       "      <td>1949</td>\n",
       "      <td>103994</td>\n",
       "      <td>58.9</td>\n",
       "      <td>57651</td>\n",
       "      <td>55.4</td>\n",
       "      <td>7658</td>\n",
       "      <td>49993</td>\n",
       "      <td>3637</td>\n",
       "      <td>5.9</td>\n",
       "      <td>42708</td>\n",
       "      <td>NaN</td>\n",
       "      <td>105943</td>\n",
       "      <td>105943</td>\n",
       "      <td>105943</td>\n",
       "    </tr>\n",
       "    <tr>\n",
       "      <th>10</th>\n",
       "      <td>1950</td>\n",
       "      <td>104995</td>\n",
       "      <td>59.2</td>\n",
       "      <td>58918</td>\n",
       "      <td>56.1</td>\n",
       "      <td>7160</td>\n",
       "      <td>51758</td>\n",
       "      <td>3288</td>\n",
       "      <td>5.3</td>\n",
       "      <td>42787</td>\n",
       "      <td>NaN</td>\n",
       "      <td>106945</td>\n",
       "      <td>106945</td>\n",
       "      <td>106945</td>\n",
       "    </tr>\n",
       "    <tr>\n",
       "      <th>11</th>\n",
       "      <td>1951</td>\n",
       "      <td>104621</td>\n",
       "      <td>59.2</td>\n",
       "      <td>59961</td>\n",
       "      <td>57.3</td>\n",
       "      <td>6726</td>\n",
       "      <td>53235</td>\n",
       "      <td>2055</td>\n",
       "      <td>3.3</td>\n",
       "      <td>42604</td>\n",
       "      <td>NaN</td>\n",
       "      <td>106572</td>\n",
       "      <td>106572</td>\n",
       "      <td>106572</td>\n",
       "    </tr>\n",
       "    <tr>\n",
       "      <th>12</th>\n",
       "      <td>1952</td>\n",
       "      <td>105231</td>\n",
       "      <td>59.0</td>\n",
       "      <td>60250</td>\n",
       "      <td>57.3</td>\n",
       "      <td>6500</td>\n",
       "      <td>53749</td>\n",
       "      <td>1883</td>\n",
       "      <td>3.0</td>\n",
       "      <td>43093</td>\n",
       "      <td>NaN</td>\n",
       "      <td>107183</td>\n",
       "      <td>107183</td>\n",
       "      <td>107183</td>\n",
       "    </tr>\n",
       "    <tr>\n",
       "      <th>13</th>\n",
       "      <td>1953</td>\n",
       "      <td>107056</td>\n",
       "      <td>58.9</td>\n",
       "      <td>61179</td>\n",
       "      <td>57.1</td>\n",
       "      <td>6260</td>\n",
       "      <td>54919</td>\n",
       "      <td>1834</td>\n",
       "      <td>2.9</td>\n",
       "      <td>44041</td>\n",
       "      <td>1.0</td>\n",
       "      <td>109009</td>\n",
       "      <td>109009</td>\n",
       "      <td>109009</td>\n",
       "    </tr>\n",
       "    <tr>\n",
       "      <th>14</th>\n",
       "      <td>1954</td>\n",
       "      <td>108321</td>\n",
       "      <td>58.8</td>\n",
       "      <td>60109</td>\n",
       "      <td>55.5</td>\n",
       "      <td>6205</td>\n",
       "      <td>53904</td>\n",
       "      <td>3532</td>\n",
       "      <td>5.5</td>\n",
       "      <td>44678</td>\n",
       "      <td>NaN</td>\n",
       "      <td>110275</td>\n",
       "      <td>110275</td>\n",
       "      <td>110275</td>\n",
       "    </tr>\n",
       "    <tr>\n",
       "      <th>15</th>\n",
       "      <td>1955</td>\n",
       "      <td>109683</td>\n",
       "      <td>59.3</td>\n",
       "      <td>62170</td>\n",
       "      <td>56.7</td>\n",
       "      <td>6450</td>\n",
       "      <td>55722</td>\n",
       "      <td>2852</td>\n",
       "      <td>4.4</td>\n",
       "      <td>44660</td>\n",
       "      <td>NaN</td>\n",
       "      <td>111638</td>\n",
       "      <td>111638</td>\n",
       "      <td>111638</td>\n",
       "    </tr>\n",
       "    <tr>\n",
       "      <th>16</th>\n",
       "      <td>1956</td>\n",
       "      <td>110954</td>\n",
       "      <td>60.0</td>\n",
       "      <td>63799</td>\n",
       "      <td>57.5</td>\n",
       "      <td>6283</td>\n",
       "      <td>57514</td>\n",
       "      <td>2750</td>\n",
       "      <td>4.1</td>\n",
       "      <td>44402</td>\n",
       "      <td>NaN</td>\n",
       "      <td>112910</td>\n",
       "      <td>112910</td>\n",
       "      <td>112910</td>\n",
       "    </tr>\n",
       "  </tbody>\n",
       "</table>\n",
       "</div>"
      ],
      "text/plain": [
       "    year  population  population_percent  employed_total  employed_percent  \\\n",
       "5   1946      103070                55.8           55250              53.6   \n",
       "6   1947      106018                56.8           57812              54.5   \n",
       "7   1947      101827                58.3           57038              56.0   \n",
       "8   1948      103068                58.8           58343              56.6   \n",
       "9   1949      103994                58.9           57651              55.4   \n",
       "10  1950      104995                59.2           58918              56.1   \n",
       "11  1951      104621                59.2           59961              57.3   \n",
       "12  1952      105231                59.0           60250              57.3   \n",
       "13  1953      107056                58.9           61179              57.1   \n",
       "14  1954      108321                58.8           60109              55.5   \n",
       "15  1955      109683                59.3           62170              56.7   \n",
       "16  1956      110954                60.0           63799              57.5   \n",
       "\n",
       "    agrictulture_ratio  nonagriculture_ratio  unemployed  unemployed_percent  \\\n",
       "5                 8320                 46930        2270                 3.9   \n",
       "6                 8256                 49557        2356                 3.9   \n",
       "7                 7890                 49148        2311                 3.9   \n",
       "8                 7629                 50714        2276                 3.8   \n",
       "9                 7658                 49993        3637                 5.9   \n",
       "10                7160                 51758        3288                 5.3   \n",
       "11                6726                 53235        2055                 3.3   \n",
       "12                6500                 53749        1883                 3.0   \n",
       "13                6260                 54919        1834                 2.9   \n",
       "14                6205                 53904        3532                 5.5   \n",
       "15                6450                 55722        2852                 4.4   \n",
       "16                6283                 57514        2750                 4.1   \n",
       "\n",
       "    not_in_labor  footnotes  name salary  year population  year,  population  \n",
       "5          45550        NaN       105016           105016             105016  \n",
       "6          45850        NaN       107965           107965             107965  \n",
       "7          42477        NaN       103774           103774             103774  \n",
       "8          42447        NaN       105016           105016             105016  \n",
       "9          42708        NaN       105943           105943             105943  \n",
       "10         42787        NaN       106945           106945             106945  \n",
       "11         42604        NaN       106572           106572             106572  \n",
       "12         43093        NaN       107183           107183             107183  \n",
       "13         44041        1.0       109009           109009             109009  \n",
       "14         44678        NaN       110275           110275             110275  \n",
       "15         44660        NaN       111638           111638             111638  \n",
       "16         44402        NaN       112910           112910             112910  "
      ]
     },
     "execution_count": 42,
     "metadata": {},
     "output_type": "execute_result"
    }
   ],
   "source": [
    "#filtering \n",
    "#selecting all rows that  years  greater than 1945 be a sample case\n",
    "empployee[empployee.year > 1945].head(12)"
   ]
  },
  {
   "cell_type": "markdown",
   "metadata": {},
   "source": [
    "AGGREGATIONS\n",
    "That is we can find the Max , Min and Mean of the desired label that we want to find"
   ]
  },
  {
   "cell_type": "code",
   "execution_count": 44,
   "metadata": {},
   "outputs": [
    {
     "data": {
      "text/plain": [
       "670"
      ]
     },
     "execution_count": 44,
     "metadata": {},
     "output_type": "execute_result"
    }
   ],
   "source": [
    "#finding minimum\n",
    "empployee.unemployed.min()"
   ]
  },
  {
   "cell_type": "code",
   "execution_count": 45,
   "metadata": {},
   "outputs": [
    {
     "data": {
      "text/plain": [
       "14825"
      ]
     },
     "execution_count": 45,
     "metadata": {},
     "output_type": "execute_result"
    }
   ],
   "source": [
    "#finding maximum\n",
    "#note you can do it for any number of the features\n",
    "empployee.unemployed.max()"
   ]
  },
  {
   "cell_type": "code",
   "execution_count": 49,
   "metadata": {},
   "outputs": [
    {
     "data": {
      "text/plain": [
       "year\n",
       "1941    5560\n",
       "1942    2660\n",
       "1943    1070\n",
       "1944     670\n",
       "1945    1040\n",
       "1946    2270\n",
       "1947    2311\n",
       "1948    2276\n",
       "1949    3637\n",
       "1950    3288\n",
       "1951    2055\n",
       "1952    1883\n",
       "Name: unemployed, dtype: int64"
      ]
     },
     "execution_count": 49,
     "metadata": {},
     "output_type": "execute_result"
    }
   ],
   "source": [
    "#exploring the groupby clause\n",
    "empployee.groupby('year').unemployed.min().head(12)"
   ]
  },
  {
   "cell_type": "markdown",
   "metadata": {},
   "source": [
    "Exploring Dropna and Loc"
   ]
  },
  {
   "cell_type": "code",
   "execution_count": null,
   "metadata": {},
   "outputs": [],
   "source": [
    "#loc = to choose no. of rows and columns\n",
    "#dropna = to drop rows with missing values"
   ]
  },
  {
   "cell_type": "code",
   "execution_count": 51,
   "metadata": {},
   "outputs": [
    {
     "data": {
      "text/html": [
       "<div>\n",
       "<style scoped>\n",
       "    .dataframe tbody tr th:only-of-type {\n",
       "        vertical-align: middle;\n",
       "    }\n",
       "\n",
       "    .dataframe tbody tr th {\n",
       "        vertical-align: top;\n",
       "    }\n",
       "\n",
       "    .dataframe thead th {\n",
       "        text-align: right;\n",
       "    }\n",
       "</style>\n",
       "<table border=\"1\" class=\"dataframe\">\n",
       "  <thead>\n",
       "    <tr style=\"text-align: right;\">\n",
       "      <th></th>\n",
       "      <th>year</th>\n",
       "      <th>population</th>\n",
       "      <th>population_percent</th>\n",
       "      <th>employed_total</th>\n",
       "      <th>employed_percent</th>\n",
       "      <th>agrictulture_ratio</th>\n",
       "      <th>nonagriculture_ratio</th>\n",
       "      <th>unemployed</th>\n",
       "      <th>unemployed_percent</th>\n",
       "      <th>not_in_labor</th>\n",
       "      <th>footnotes</th>\n",
       "      <th>name salary</th>\n",
       "      <th>year population</th>\n",
       "      <th>year,  population</th>\n",
       "    </tr>\n",
       "  </thead>\n",
       "  <tbody>\n",
       "    <tr>\n",
       "      <th>0</th>\n",
       "      <td>1941</td>\n",
       "      <td>99900</td>\n",
       "      <td>56.0</td>\n",
       "      <td>50350</td>\n",
       "      <td>50.4</td>\n",
       "      <td>9100</td>\n",
       "      <td>41250</td>\n",
       "      <td>5560</td>\n",
       "      <td>9.9</td>\n",
       "      <td>43990</td>\n",
       "      <td>NaN</td>\n",
       "      <td>101841</td>\n",
       "      <td>101841</td>\n",
       "      <td>101841</td>\n",
       "    </tr>\n",
       "    <tr>\n",
       "      <th>1</th>\n",
       "      <td>1942</td>\n",
       "      <td>98640</td>\n",
       "      <td>57.2</td>\n",
       "      <td>53750</td>\n",
       "      <td>54.5</td>\n",
       "      <td>9250</td>\n",
       "      <td>44500</td>\n",
       "      <td>2660</td>\n",
       "      <td>4.7</td>\n",
       "      <td>42230</td>\n",
       "      <td>NaN</td>\n",
       "      <td>100582</td>\n",
       "      <td>100582</td>\n",
       "      <td>100582</td>\n",
       "    </tr>\n",
       "    <tr>\n",
       "      <th>2</th>\n",
       "      <td>1943</td>\n",
       "      <td>94640</td>\n",
       "      <td>58.7</td>\n",
       "      <td>54470</td>\n",
       "      <td>57.6</td>\n",
       "      <td>9080</td>\n",
       "      <td>45390</td>\n",
       "      <td>1070</td>\n",
       "      <td>1.9</td>\n",
       "      <td>39100</td>\n",
       "      <td>NaN</td>\n",
       "      <td>96583</td>\n",
       "      <td>96583</td>\n",
       "      <td>96583</td>\n",
       "    </tr>\n",
       "    <tr>\n",
       "      <th>3</th>\n",
       "      <td>1944</td>\n",
       "      <td>93220</td>\n",
       "      <td>58.6</td>\n",
       "      <td>53960</td>\n",
       "      <td>57.9</td>\n",
       "      <td>8950</td>\n",
       "      <td>45010</td>\n",
       "      <td>670</td>\n",
       "      <td>1.2</td>\n",
       "      <td>38590</td>\n",
       "      <td>NaN</td>\n",
       "      <td>95164</td>\n",
       "      <td>95164</td>\n",
       "      <td>95164</td>\n",
       "    </tr>\n",
       "    <tr>\n",
       "      <th>4</th>\n",
       "      <td>1945</td>\n",
       "      <td>94090</td>\n",
       "      <td>57.2</td>\n",
       "      <td>52820</td>\n",
       "      <td>56.1</td>\n",
       "      <td>8580</td>\n",
       "      <td>44240</td>\n",
       "      <td>1040</td>\n",
       "      <td>1.9</td>\n",
       "      <td>40230</td>\n",
       "      <td>NaN</td>\n",
       "      <td>96035</td>\n",
       "      <td>96035</td>\n",
       "      <td>96035</td>\n",
       "    </tr>\n",
       "  </tbody>\n",
       "</table>\n",
       "</div>"
      ],
      "text/plain": [
       "   year  population  population_percent  employed_total  employed_percent  \\\n",
       "0  1941       99900                56.0           50350              50.4   \n",
       "1  1942       98640                57.2           53750              54.5   \n",
       "2  1943       94640                58.7           54470              57.6   \n",
       "3  1944       93220                58.6           53960              57.9   \n",
       "4  1945       94090                57.2           52820              56.1   \n",
       "\n",
       "   agrictulture_ratio  nonagriculture_ratio  unemployed  unemployed_percent  \\\n",
       "0                9100                 41250        5560                 9.9   \n",
       "1                9250                 44500        2660                 4.7   \n",
       "2                9080                 45390        1070                 1.9   \n",
       "3                8950                 45010         670                 1.2   \n",
       "4                8580                 44240        1040                 1.9   \n",
       "\n",
       "   not_in_labor  footnotes  name salary  year population  year,  population  \n",
       "0         43990        NaN       101841           101841             101841  \n",
       "1         42230        NaN       100582           100582             100582  \n",
       "2         39100        NaN        96583            96583              96583  \n",
       "3         38590        NaN        95164            95164              95164  \n",
       "4         40230        NaN        96035            96035              96035  "
      ]
     },
     "execution_count": 51,
     "metadata": {},
     "output_type": "execute_result"
    }
   ],
   "source": [
    "empployee.loc[0:].head()"
   ]
  },
  {
   "cell_type": "code",
   "execution_count": 52,
   "metadata": {},
   "outputs": [
    {
     "data": {
      "text/html": [
       "<div>\n",
       "<style scoped>\n",
       "    .dataframe tbody tr th:only-of-type {\n",
       "        vertical-align: middle;\n",
       "    }\n",
       "\n",
       "    .dataframe tbody tr th {\n",
       "        vertical-align: top;\n",
       "    }\n",
       "\n",
       "    .dataframe thead th {\n",
       "        text-align: right;\n",
       "    }\n",
       "</style>\n",
       "<table border=\"1\" class=\"dataframe\">\n",
       "  <thead>\n",
       "    <tr style=\"text-align: right;\">\n",
       "      <th></th>\n",
       "      <th>year</th>\n",
       "      <th>population</th>\n",
       "      <th>population_percent</th>\n",
       "      <th>employed_total</th>\n",
       "      <th>employed_percent</th>\n",
       "      <th>agrictulture_ratio</th>\n",
       "      <th>nonagriculture_ratio</th>\n",
       "      <th>unemployed</th>\n",
       "      <th>unemployed_percent</th>\n",
       "      <th>not_in_labor</th>\n",
       "      <th>footnotes</th>\n",
       "      <th>name salary</th>\n",
       "      <th>year population</th>\n",
       "      <th>year,  population</th>\n",
       "    </tr>\n",
       "  </thead>\n",
       "  <tbody>\n",
       "    <tr>\n",
       "      <th>0</th>\n",
       "      <td>1941</td>\n",
       "      <td>99900</td>\n",
       "      <td>56.0</td>\n",
       "      <td>50350</td>\n",
       "      <td>50.4</td>\n",
       "      <td>9100</td>\n",
       "      <td>41250</td>\n",
       "      <td>5560</td>\n",
       "      <td>9.9</td>\n",
       "      <td>43990</td>\n",
       "      <td>NaN</td>\n",
       "      <td>101841</td>\n",
       "      <td>101841</td>\n",
       "      <td>101841</td>\n",
       "    </tr>\n",
       "    <tr>\n",
       "      <th>1</th>\n",
       "      <td>1942</td>\n",
       "      <td>98640</td>\n",
       "      <td>57.2</td>\n",
       "      <td>53750</td>\n",
       "      <td>54.5</td>\n",
       "      <td>9250</td>\n",
       "      <td>44500</td>\n",
       "      <td>2660</td>\n",
       "      <td>4.7</td>\n",
       "      <td>42230</td>\n",
       "      <td>NaN</td>\n",
       "      <td>100582</td>\n",
       "      <td>100582</td>\n",
       "      <td>100582</td>\n",
       "    </tr>\n",
       "    <tr>\n",
       "      <th>2</th>\n",
       "      <td>1943</td>\n",
       "      <td>94640</td>\n",
       "      <td>58.7</td>\n",
       "      <td>54470</td>\n",
       "      <td>57.6</td>\n",
       "      <td>9080</td>\n",
       "      <td>45390</td>\n",
       "      <td>1070</td>\n",
       "      <td>1.9</td>\n",
       "      <td>39100</td>\n",
       "      <td>NaN</td>\n",
       "      <td>96583</td>\n",
       "      <td>96583</td>\n",
       "      <td>96583</td>\n",
       "    </tr>\n",
       "  </tbody>\n",
       "</table>\n",
       "</div>"
      ],
      "text/plain": [
       "   year  population  population_percent  employed_total  employed_percent  \\\n",
       "0  1941       99900                56.0           50350              50.4   \n",
       "1  1942       98640                57.2           53750              54.5   \n",
       "2  1943       94640                58.7           54470              57.6   \n",
       "\n",
       "   agrictulture_ratio  nonagriculture_ratio  unemployed  unemployed_percent  \\\n",
       "0                9100                 41250        5560                 9.9   \n",
       "1                9250                 44500        2660                 4.7   \n",
       "2                9080                 45390        1070                 1.9   \n",
       "\n",
       "   not_in_labor  footnotes  name salary  year population  year,  population  \n",
       "0         43990        NaN       101841           101841             101841  \n",
       "1         42230        NaN       100582           100582             100582  \n",
       "2         39100        NaN        96583            96583              96583  "
      ]
     },
     "execution_count": 52,
     "metadata": {},
     "output_type": "execute_result"
    }
   ],
   "source": [
    "#row 0-2,all columns\n",
    "empployee.loc[0:2,:].head()"
   ]
  },
  {
   "cell_type": "code",
   "execution_count": 55,
   "metadata": {},
   "outputs": [
    {
     "data": {
      "text/plain": [
       "(21, 14)"
      ]
     },
     "execution_count": 55,
     "metadata": {},
     "output_type": "execute_result"
    }
   ],
   "source": [
    "empployee.dropna(how='any').shape"
   ]
  },
  {
   "cell_type": "code",
   "execution_count": 56,
   "metadata": {},
   "outputs": [
    {
     "data": {
      "text/plain": [
       "(71, 14)"
      ]
     },
     "execution_count": 56,
     "metadata": {},
     "output_type": "execute_result"
    }
   ],
   "source": [
    "#drop rows all missign values in certain column\n",
    "empployee.dropna(subset=['population','unemployed'],how='any').shape"
   ]
  },
  {
   "cell_type": "markdown",
   "metadata": {},
   "source": [
    "Explore dropna , fillna"
   ]
  },
  {
   "cell_type": "markdown",
   "metadata": {},
   "source": [
    "# Matplotlib"
   ]
  },
  {
   "cell_type": "code",
   "execution_count": 57,
   "metadata": {},
   "outputs": [],
   "source": [
    "import matplotlib.pyplot as plt\n",
    "%matplotlib inline"
   ]
  },
  {
   "cell_type": "code",
   "execution_count": 70,
   "metadata": {},
   "outputs": [],
   "source": [
    "#LEGEND AND GRID\n",
    "days = [1,2,3,4,5,6,7]\n",
    "max_t = [50,34,23,67,78,21,23]\n",
    "min_t = [23,24,25,26,27,28,29]\n",
    "avg_t = [45,43,48,47,46,42,41]"
   ]
  },
  {
   "cell_type": "code",
   "execution_count": 69,
   "metadata": {},
   "outputs": [
    {
     "data": {
      "image/png": "[encoded data removed]",
      "text/plain": [
       "<Figure size 432x288 with 1 Axes>"
      ]
     },
     "metadata": {},
     "output_type": "display_data"
    }
   ],
   "source": [
    "plt.xlabel(\"Days\")\n",
    "plt.ylabel(\"Temperature\")\n",
    "plt.title(\"Weather\")\n",
    "\n",
    "plt.plot(days,max_t, label =\"Max\")\n",
    "plt.plot(days,min_t, label= \"Min\")\n",
    "plt.plot(days,avg_t, label =\"Avg\")\n",
    "\n",
    "plt.legend()\n",
    "plt.grid()#for getting the data points\n",
    "#we can also set the location of the legend\n",
    "#by default it is set to best beacuse it decides where the legend sets to the best according to that of graph\n",
    "#plt.legend(loc = \"best\") or plt.legend(loc=\"upper-right corner\")"
   ]
  },
  {
   "cell_type": "code",
   "execution_count": 74,
   "metadata": {},
   "outputs": [],
   "source": [
    "#BAR CHART\n",
    "company = ['google','fb','msn','amzn']\n",
    "revenue = [90,136,89,27]"
   ]
  },
  {
   "cell_type": "code",
   "execution_count": 75,
   "metadata": {},
   "outputs": [
    {
     "data": {
      "text/plain": [
       "array([0, 1, 2, 3])"
      ]
     },
     "execution_count": 75,
     "metadata": {},
     "output_type": "execute_result"
    }
   ],
   "source": [
    "ypos  = np.arange(len(company))\n",
    "ypos"
   ]
  },
  {
   "cell_type": "code",
   "execution_count": 82,
   "metadata": {},
   "outputs": [
    {
     "data": {
      "text/plain": [
       "<matplotlib.legend.Legend at 0x23cfde61208>"
      ]
     },
     "execution_count": 82,
     "metadata": {},
     "output_type": "execute_result"
    },
    {
     "data": {
      "image/png": "[encoded data removed]",
      "text/plain": [
       "<Figure size 432x288 with 1 Axes>"
      ]
     },
     "metadata": {},
     "output_type": "display_data"
    }
   ],
   "source": [
    "#to change the values into the labels we call the xticks function\n",
    "plt.xticks(ypos,company)\n",
    "# replace the coreesponding values  in the np array to the companies\n",
    "plt.ylabel(\"revenue*(mln)\")\n",
    "plt.xlabel(\"UAE Tech\")\n",
    "plt.title(\"Stocks\")\n",
    "plt.bar(ypos,revenue,label =\"Revenue\")\n",
    "plt.legend()"
   ]
  },
  {
   "cell_type": "code",
   "execution_count": 83,
   "metadata": {},
   "outputs": [
    {
     "data": {
      "text/plain": [
       "<matplotlib.legend.Legend at 0x23cfc850278>"
      ]
     },
     "execution_count": 83,
     "metadata": {},
     "output_type": "execute_result"
    },
    {
     "data": {
      "image/png": "[encoded data removed]",
      "text/plain": [
       "<Figure size 432x288 with 1 Axes>"
      ]
     },
     "metadata": {},
     "output_type": "display_data"
    }
   ],
   "source": [
    "company = ['google','fb','msn','amzn']\n",
    "revenue = [90,136,89,27]\n",
    "profit =[34,56,67,78]\n",
    "ypos  = np.arange(len(company))\n",
    "ypos\n",
    "#to change the values into the labels we call the xticks function\n",
    "plt.xticks(ypos,company)\n",
    "# replace the coreesponding values  in the np array to the companies\n",
    "plt.ylabel(\"revenue*(mln)\")\n",
    "plt.xlabel(\"UAE Tech\")\n",
    "plt.title(\"Stocks\")\n",
    "plt.bar(ypos,revenue,label =\"Revenue\")\n",
    "plt.bar(ypos,profit,label =\"Profit\")\n",
    "plt.legend()"
   ]
  },
  {
   "cell_type": "code",
   "execution_count": 85,
   "metadata": {},
   "outputs": [
    {
     "data": {
      "text/plain": [
       "<matplotlib.legend.Legend at 0x23cfe189550>"
      ]
     },
     "execution_count": 85,
     "metadata": {},
     "output_type": "execute_result"
    },
    {
     "data": {
      "image/png": "[encoded data removed]",
      "text/plain": [
       "<Figure size 432x288 with 1 Axes>"
      ]
     },
     "metadata": {},
     "output_type": "display_data"
    }
   ],
   "source": [
    "company = ['google','fb','msn','amzn']\n",
    "revenue = [90,136,89,27]\n",
    "profit =[34,56,67,78]\n",
    "xpos  = np.arange(len(company))\n",
    "xpos\n",
    "#to change the values into the labels we call the xticks function\n",
    "plt.xticks(ypos,company)\n",
    "# replace the coreesponding values  in the np array to the companies\n",
    "plt.ylabel(\"revenue*(mln)\")\n",
    "plt.xlabel(\"UAE Tech\")\n",
    "plt.title(\"Stocks\")\n",
    "plt.bar(xpos+0.2,revenue,label =\"Revenue\")\n",
    "plt.bar(xpos-0.2,profit,label =\"Profit\")\n",
    "plt.legend()"
   ]
  },
  {
   "cell_type": "code",
   "execution_count": 86,
   "metadata": {},
   "outputs": [
    {
     "data": {
      "text/plain": [
       "<matplotlib.legend.Legend at 0x23cfe1fce10>"
      ]
     },
     "execution_count": 86,
     "metadata": {},
     "output_type": "execute_result"
    },
    {
     "data": {
      "image/png": "[encoded data removed]",
      "text/plain": [
       "<Figure size 432x288 with 1 Axes>"
      ]
     },
     "metadata": {},
     "output_type": "display_data"
    }
   ],
   "source": [
    "company = ['google','fb','msn','amzn']\n",
    "revenue = [90,136,89,27]\n",
    "profit =[34,56,67,78]\n",
    "xpos  = np.arange(len(company))\n",
    "xpos\n",
    "#to change the values into the labels we call the xticks function\n",
    "plt.xticks(ypos,company)\n",
    "# replace the coreesponding values  in the np array to the companies\n",
    "plt.ylabel(\"revenue*(mln)\")\n",
    "plt.xlabel(\"UAE Tech\")\n",
    "plt.title(\"Stocks\")\n",
    "plt.bar(xpos+0.2,revenue,width=0.4,label =\"Revenue\")\n",
    "plt.bar(xpos-0.2,profit,width=0.4,label =\"Profit\")\n",
    "plt.legend()"
   ]
  },
  {
   "cell_type": "code",
   "execution_count": null,
   "metadata": {},
   "outputs": [],
   "source": []
  },
  {
   "cell_type": "code",
   "execution_count": null,
   "metadata": {},
   "outputs": [],
   "source": []
  },
  {
   "cell_type": "code",
   "execution_count": null,
   "metadata": {},
   "outputs": [],
   "source": []
  },
  {
   "cell_type": "code",
   "execution_count": null,
   "metadata": {},
   "outputs": [],
   "source": []
  },
  {
   "cell_type": "code",
   "execution_count": null,
   "metadata": {},
   "outputs": [],
   "source": []
  },
  {
   "cell_type": "code",
   "execution_count": null,
   "metadata": {},
   "outputs": [],
   "source": []
  },
  {
   "cell_type": "code",
   "execution_count": null,
   "metadata": {},
   "outputs": [],
   "source": []
  },
  {
   "cell_type": "code",
   "execution_count": null,
   "metadata": {},
   "outputs": [],
   "source": []
  }
 ],
 "metadata": {
  "kernelspec": {
   "display_name": "Python 3",
   "language": "python",
   "name": "python3"
  },
  "language_info": {
   "codemirror_mode": {
    "name": "ipython",
    "version": 3
   },
   "file_extension": ".py",
   "mimetype": "text/x-python",
   "name": "python",
   "nbconvert_exporter": "python",
   "pygments_lexer": "ipython3",
   "version": "3.6.5"
  }
 },
 "nbformat": 4,
 "nbformat_minor": 2
}
